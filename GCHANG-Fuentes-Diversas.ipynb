{
 "cells": [
  {
   "cell_type": "code",
   "execution_count": 1,
   "metadata": {},
   "outputs": [
    {
     "name": "stdout",
     "output_type": "stream",
     "text": [
      "ERROR AL CARGAR EL DF -->  [Errno 2] No such file or directory: ''\n"
     ]
    }
   ],
   "source": [
    "# GABRIEL DAVID CHANG PEREZ\n",
    "\n",
    "# Import de librerias e inicialización del data frame\n",
    "import pandas as pd\n",
    "import matplotlib.pyplot as plt\n",
    "import seaborn as sea\n",
    "import numpy as np\n",
    "\n",
    "# data set --> Disaster Dataset\n",
    "url = ''\n",
    "\n",
    "try:\n",
    "    data_frame = pd.read_csv(url, encoding='unicode_escape')\n",
    "\n",
    "    # Crear una copia del dataset original para modificar\n",
    "    data_frame_modificado = data_frame.copy()\n",
    "\n",
    "    print('Archivo CSV cargado al Data Frame exitosamente')\n",
    "\n",
    "    print('\\nIMPRIMIENDO HEAD DEL DATA SET\\n :', data_frame_modificado.head())\n",
    "\n",
    "except Exception as ex:\n",
    "    print('ERROR AL CARGAR EL DF --> ', ex)"
   ]
  }
 ],
 "metadata": {
  "kernelspec": {
   "display_name": "Python 3",
   "language": "python",
   "name": "python3"
  },
  "language_info": {
   "codemirror_mode": {
    "name": "ipython",
    "version": 3
   },
   "file_extension": ".py",
   "mimetype": "text/x-python",
   "name": "python",
   "nbconvert_exporter": "python",
   "pygments_lexer": "ipython3",
   "version": "3.12.3"
  }
 },
 "nbformat": 4,
 "nbformat_minor": 2
}
